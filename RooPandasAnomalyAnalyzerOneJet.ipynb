{
 "cells": [
  {
   "cell_type": "code",
   "execution_count": 1,
   "metadata": {},
   "outputs": [
    {
     "name": "stdout",
     "output_type": "stream",
     "text": [
      "Welcome to JupyROOT 6.22/00\n"
     ]
    }
   ],
   "source": [
    "from RooPandasFunctions import PSequential,PColumn,PFilter,PRow,PProcessor,PProcRunner,PInitDir\n",
    "import pandas as pd\n",
    "from glob import glob\n",
    "from ROOT import TH1F,TH2F,TLorentzVector,TFile,TCanvas,TLegend,gPad\n",
    "from collections import OrderedDict\n",
    "import numpy as np\n",
    "import copy\n",
    "import pyarrow as pa"
   ]
  },
  {
   "cell_type": "code",
   "execution_count": 2,
   "metadata": {},
   "outputs": [],
   "source": [
    "#PInitDir parses a directory created at nanoaod conversion time.  It creates dataset and file lists to be used by the processor\n",
    "chunklist = PInitDir(\"RooFlatFull\")"
   ]
  },
  {
   "cell_type": "code",
   "execution_count": 3,
   "metadata": {},
   "outputs": [],
   "source": [
    "#Histograms are stored as a dict, and accessed through matching dict keys and DataFrame labels\n",
    "histostemp=OrderedDict  ([\n",
    "                        (\"invm\",TH1F(\"invm\",\"invm\",100,0,5000)),\n",
    "                        (\"fjpt\",TH1F(\"fjpt\",\"fjpt\",100,0,2000)),\n",
    "                        (\"fjeta\",TH1F(\"fjeta\",\"fjeta\",100,0,2.4)),\n",
    "                        (\"njettight\",TH1F(\"njettight\",\"njettight\",100,200,3500)),\n",
    "                        (\"njetloose\",TH1F(\"njetloose\",\"njetloose\",100,200,3500)),\n",
    "                        (\"dijetht\",TH1F(\"dijetht\",\"dijetht\",100,200,3500)),\n",
    "                        (\"ht20\",TH1F(\"ht20\",\"ht20\",100,200,3500)),\n",
    "                        (\"ht02\",TH1F(\"ht02\",\"ht02\",100,200,3500)),\n",
    "                        (\"ht11\",TH1F(\"ht11\",\"ht11\",100,200,3500)),\n",
    "                        #2D histogram.  parse variables with a \"__\" delimeter\n",
    "                        (\"tight90pt1__tight90pt1MSE\",TH2F(\"tight90pt1__tight90pt1MSE\",\"tight90pt1__tight90pt1MSE\",100,0,2000,80,-14,-6)),\n",
    "                        (\"fjpt__fjeta\",TH2F(\"fjpt__fjeta\",\"fjpt__fjeta\",100,0,2000,100,0,2.4)),\n",
    "                        (\"njettight__njetloose\",TH2F(\"njettight__njetloose\",\"njettight__njetloose\",4,-0.5,3.5,4,-0.5,3.5))\n",
    "                        ])\n",
    "for hist in histostemp:\n",
    "    histostemp[hist].Sumw2() "
   ]
  },
  {
   "cell_type": "code",
   "execution_count": 4,
   "metadata": {},
   "outputs": [],
   "source": [
    "#This takes the histograms and makes a copy for each dataset\n",
    "histos= {}\n",
    "for ds in chunklist:\n",
    "    histos[ds]=copy.deepcopy(histostemp)"
   ]
  },
  {
   "cell_type": "code",
   "execution_count": 5,
   "metadata": {},
   "outputs": [],
   "source": [
    "#The analysis uses PColumn,PFilter, and PRow actions which all take in a python function as an argument and use it \n",
    "#to efficiently analyze a DataFrame.\n",
    "\n",
    "#Here are some functions that will later be used as input to these actions"
   ]
  },
  {
   "cell_type": "code",
   "execution_count": 6,
   "metadata": {},
   "outputs": [],
   "source": [
    "#PFilter -- can be a function or class with a __call__ method\n",
    "class KinematicSelection():\n",
    "    def __init__(self,ptcut,msdcut):\n",
    "        self.ptcut=ptcut\n",
    "        self.msdcut=msdcut\n",
    "    def __call__(self,df,EventInfo):\n",
    "        #Kinematic filter operation.  For safety, the event-level filtering should only occur through the PFilter function.\n",
    "        #This takes in a bool Series with one truth value per event.  This is very fast, and should be performed before any slower actions.\n",
    "        #print(df[\"FatJet\"])\n",
    "\n",
    "        #njetcut is a elementwise selection used as  input to C1.  If you want to use this as an event filter, add [:,0] like in HLT selection below\n",
    "        njetcut=df[\"FatJet\"][\"nFatJet\"]>1\n",
    "\n",
    "\n",
    "        #print(df[\"FatJet\"])\n",
    "        #passing None out of Filter will skip the entire current file (to avoid index errors)\n",
    "        if (not njetcut.any()):\n",
    "            return None\n",
    "        #print(df[\"FatJet\"][\"pt\"][njetcut])\n",
    "        C1=((df[\"FatJet\"][\"pt\"][njetcut][:,0]>self.ptcut) & (df[\"FatJet\"][\"pt\"][njetcut][:,1]>self.ptcut) & (df[\"FatJet\"][\"msoftdrop\"][njetcut][:,0]>self.msdcut) & (df[\"FatJet\"][\"msoftdrop\"][njetcut][:,1]>self.msdcut))\n",
    "\n",
    "        #Triggers are already stored as bools\n",
    "        C2=df[\"HLT\"][\"PFHT900\"][:,0]\n",
    "        if (not (C1 & C2).any()):\n",
    "            return None\n",
    "\n",
    "        return ( C1 & C2 )"
   ]
  },
  {
   "cell_type": "code",
   "execution_count": 7,
   "metadata": {},
   "outputs": [],
   "source": [
    "#PColumn function  \n",
    "class ColumnSelectionPre():\n",
    "    def __call__(self,df,EventInfo):\n",
    "        #Examples of columnwise actions. \n",
    "        #We can define a new collection variable (one item per entry).  Here we make fatjet et out of pt and mass\n",
    "        df[\"FatJet\"][\"Et\"]=np.sqrt(df[\"FatJet\"][\"pt\"]*df[\"FatJet\"][\"pt\"]+df[\"FatJet\"][\"mass\"]*df[\"FatJet\"][\"mass\"])\n",
    "        df[\"Hists\"][\"Et\"] = df[\"FatJet\"][\"Et\"][:,0]\n",
    "\n",
    "        #this creates the generic histrogram weights by taking the event weight and projecting to the event size\n",
    "        ptcut=df[\"FatJet\"][\"pt\"]>200.\n",
    "        dfsel=df[\"FatJet\"][ptcut]\n",
    "        cut90,cut99,cut999=-11.3,-9.9,-9.2\n",
    "        \n",
    "        \n",
    "        logmse=np.log(dfsel[\"iAEMSE\"])\n",
    "        njettight=((logmse>cut90).sum(level=0))\n",
    "        njetloose=((logmse<cut90).sum(level=0))\n",
    "        \n",
    "        df[\"Hists\"][\"njettight\"]=njettight\n",
    "        df[\"Hists\"][\"njetloose\"]=njetloose\n",
    "        \n",
    "        df[\"Hists\"][\"ht\"]=dfsel[\"pt\"].sum(level=0)\n",
    "        df[\"Hists\"][\"njettight\"] = njettight\n",
    "        df[\"Hists\"][\"njetloose\"] = njetloose\n",
    "        df[\"Hists\"][\"ht11\"]=df[\"Hists\"][\"ht\"][(df[\"Hists\"][\"njettight\"]==1)&(df[\"Hists\"][\"njetloose\"]==1)]\n",
    "        df[\"Hists\"][\"ht20\"]=df[\"Hists\"][\"ht\"][(df[\"Hists\"][\"njettight\"]==2)&(df[\"Hists\"][\"njetloose\"]==0)]\n",
    "        df[\"Hists\"][\"ht02\"]=df[\"Hists\"][\"ht\"][(df[\"Hists\"][\"njettight\"]==0)&(df[\"Hists\"][\"njetloose\"]==2)]\n",
    "\n",
    "        #make sure there are any events left\n",
    "        if len(njettight)>0:\n",
    "            df[\"Hists\"][\"tight90pt1\"] = dfsel[\"pt\"][logmse>cut90][:,0]\n",
    "            df[\"Hists\"][\"tight90pt1MSE\"] = logmse[logmse>cut90][:,0]\n",
    "            #print(dfsel[\"pt\"][logmse>cut90])\n",
    "            #print(dfsel[\"pt\"][logmse>cut90].groupby(level=0).size())\n",
    "        if len(njetloose)>0:\n",
    "            df[\"Hists\"][\"loose90pt1\"] = dfsel[\"pt\"][logmse<cut90][:,0]\n",
    "\n",
    "        EventInfo.eventcontainer[\"evweight\"] = EventInfo.eventcontainer[\"lumi\"]*EventInfo.eventcontainer[\"xsec\"][EventInfo.dataset]/EventInfo.eventcontainer[\"nev\"][EventInfo.dataset]\n",
    "\n",
    "\n",
    "\n",
    "        #the  \"weight\" specific key will be used to weight all histograms unless there exists a histname__weight entry in the \"Hists\" dict\n",
    "        #It is initialized as 1, so additional weights are multiplicative \n",
    "        df[\"Hists\"][\"weight\"] *= EventInfo.eventcontainer[\"evweight\"]\n",
    "        df[\"Hists\"][\"Et\"] = df[\"FatJet\"][\"Et\"][:,0]\n",
    "        df[\"Hists\"][\"logMSE_all\"] = np.log(df[\"FatJet\"][\"iAEMSE\"])\n",
    "\n",
    "        return df"
   ]
  },
  {
   "cell_type": "code",
   "execution_count": 8,
   "metadata": {},
   "outputs": [],
   "source": [
    "#one way to set the weights.  In general, each histogram needs a corresponding weights.\n",
    "#Until we have all weights, we  just project the event weights to each histogram.\n",
    "#You can skip this step and it will be done at histogram filling time automatically, but will be much slower and print a warning\n",
    "#Probably need to find a better way to do this \n",
    "class ColumnWeights():\n",
    "    def __call__(self,df,EventInfo):\n",
    "        keys=list(df[\"Hists\"].keys())\n",
    "        for hh in keys:\n",
    "            if hh in [\"invm__logMSE\",\"fjpt__fjeta\",\"njettight__njetloose\",\"event\",\"weight\"]:\n",
    "                continue\n",
    "            df[\"Hists\"][hh+\"__weight\"]=df[\"Hists\"][\"weight\"]\n",
    "            if (df[\"Hists\"][hh].index.nlevels > df[\"Hists\"][\"weight\"].index.nlevels )  :\n",
    "                df[\"Hists\"][hh]=df[\"Hists\"][hh].droplevel(level=1)\n",
    "            df[\"Hists\"][hh+\"__weight\"] = df[\"Hists\"][hh+\"__weight\"][df[\"Hists\"][hh+\"__weight\"].index.isin(df[\"Hists\"][hh].index)]\n",
    "        df[\"Hists\"][\"invm__logMSE__weight\"]=df[\"Hists\"][\"invm__weight\"]\n",
    "        return df"
   ]
  },
  {
   "cell_type": "code",
   "execution_count": 9,
   "metadata": {},
   "outputs": [],
   "source": [
    "#PColumn function\n",
    "class ColumnSelection():\n",
    "    def __call__(self,df,EventInfo):\n",
    "        #Examples of columnwise actions. \n",
    "        #We can define a new collection variable (one item per entry).  Here we make fatjet et out of pt and mass\n",
    "        df[\"FatJet\"][\"Et\"]=np.sqrt(df[\"FatJet\"][\"pt\"]*df[\"FatJet\"][\"pt\"]+df[\"FatJet\"][\"mass\"]*df[\"FatJet\"][\"mass\"])\n",
    "\n",
    "\n",
    "\n",
    "        #We can store the leading two jet ht (one item per event) the \"\" collection is a key used for event-level info\n",
    "        #print(df[\"FatJet\"][\"pt\"])\n",
    "        df[\"\"][\"dijetht\"] = df[\"FatJet\"][\"pt\"][:,0]+df[\"FatJet\"][\"pt\"][:,1]    \n",
    "        df[\"Hists\"][\"dijetht\"] = df[\"\"][\"dijetht\"]\n",
    "        #We can also define variables for plotting.  Here, deta refers to the histogram above. \n",
    "        #The \"Hists\" collection is special, and holds all variables visible to the histogram filling\n",
    "        df[\"Hists\"][\"deta\"] = np.abs(df[\"FatJet\"][\"eta\"][:,0]-df[\"FatJet\"][\"eta\"][:,1])  \n",
    "        df[\"Hists\"][\"pt\"] = df[\"FatJet\"][\"pt\"][:,0]  \n",
    "        #Here is an example of a many-to-one operation where we loop through muons to find the closest (in eta) to the leading AK8 jet\n",
    "        \n",
    "        njets=df[\"Muon\"].index.get_level_values(1).max()+1 #index+1 is number of objects \n",
    "        for ii in range(njets):\n",
    "            curdiff=(np.abs(df[\"FatJet\"][\"eta\"][:,0]-df[\"Muon\"][\"eta\"][:,ii]))\n",
    "            if ii==0:\n",
    "                temp=curdiff\n",
    "            else:\n",
    "                temp=pd.concat([temp,curdiff],axis=1)\n",
    "        df[\"Hists\"][\"mindetaak4\"] = temp.min(axis=1)\n",
    "\n",
    "        #df[\"Hists\"][\"weight\"] *= EventInfo.eventcontainer[\"evweight\"]\n",
    "        #print(df[\"Hists\"][\"weight\"])\n",
    "        #You can also drop unused columns at any time -- here we drop the  pt,eta,phi,mass columns from the fatjet collection \n",
    "        #because we have stored the lorentzector already\n",
    "        df[\"FatJet\"] = df[\"FatJet\"].drop([\"pt\",\"eta\",\"phi\",\"mass\"],axis=1)\n",
    "        return df"
   ]
  },
  {
   "cell_type": "code",
   "execution_count": 10,
   "metadata": {},
   "outputs": [],
   "source": [
    "#PRow functions.  \n",
    "#These are classes where the __call__ special function is performed in a rowwise loop\n",
    "class MakePtEtaPhiMLV():\n",
    "    #Example of a rowwise action.  These are slower than the columnwise selections, so best to do them last.\n",
    "    #These are also much more general though, so likely they will be required.\n",
    "    #These use the PRow() action which is a wrapper for the fastest method that I could find.\n",
    "    #First, define your preprocessing steps so that you only consider the minimal number of columns\n",
    "    def prepdf(self,df):\n",
    "        args = [df[\"FatJet\"][\"pt\"],df[\"FatJet\"][\"eta\"],df[\"FatJet\"][\"phi\"],df[\"FatJet\"][\"mass\"]]\n",
    "        return args\n",
    "\n",
    "    #The args are then passed to the call function \n",
    "    def __call__(self,args,EventInfo):\n",
    "        #Here, you can write general code as if you were acting on elements and not columns\n",
    "        #This just takes pt,eta,phi, and mass and converts to a four vector,  This will be saved in the DataFrame and column passed below\n",
    "        (pt,eta,phi,mass)=args\n",
    "        LV=TLorentzVector()\n",
    "\n",
    "        LV.SetPtEtaPhiM(pt,eta,phi,mass)\n",
    "        return LV"
   ]
  },
  {
   "cell_type": "code",
   "execution_count": 11,
   "metadata": {},
   "outputs": [],
   "source": [
    "class MyAnalyzerVec():\n",
    "    #Another example of a rowwise action.  This will be likely replaced with the full analysis logic.\n",
    "    #Here, we prepare the leading two jet invariant mass and MSE for plotting\n",
    "    def prepdf(self,df):\n",
    "        args = [df[\"FatJet\"][\"LV\"][:,0],df[\"FatJet\"][\"LV\"][:,1],df[\"FatJet\"][\"iAEMSE\"][:,0]] \n",
    "        return args\n",
    "    def __call__(self,args,EventInfo):\n",
    "        (LV0,LV1,MSE)=args\n",
    "        invm=(LV0 + LV1).M() \n",
    "\n",
    "        #This is where I can access the fake MSE shift object that was passed to the processor below\n",
    "        msescale=EventInfo.eventcontainer[\"msescale\"][EventInfo.dataset]\n",
    "\n",
    "        return (invm,np.log(MSE),np.log(MSE*msescale))"
   ]
  },
  {
   "cell_type": "code",
   "execution_count": 12,
   "metadata": {},
   "outputs": [],
   "source": [
    "#Dict of collections and variables to read in.\n",
    "branchestoread={\n",
    "                \"Muon\":[\"pt\",\"eta\",\"phi\",\"mass\"],\n",
    "                \"FatJet\":[\"pt\",\"eta\",\"phi\",\"mass\",\"msoftdrop\",\"iAEMSE\"],\n",
    "                \"HLT\":[\"PFHT900\"],\n",
    "                \"\":[\"run\",\"luminosityBlock\",\"event\"]\n",
    "                }\n",
    "#Hacky, specifies which branches are single valued per event\n",
    "scalars=[\"\",\"HLT\"]"
   ]
  },
  {
   "cell_type": "code",
   "execution_count": 13,
   "metadata": {},
   "outputs": [],
   "source": [
    "#The analysis is defined here as a sequential list of actions\n",
    "myana=  [\n",
    "        PColumn(ColumnSelectionPre()),\n",
    "        #PFilter just takes in a function that outputs a series of bools\n",
    "        PFilter(KinematicSelection(200.,50.)),\n",
    "        #PRow takes in two elements.  \n",
    "        #The first describes the output collections and variables and the second is the function that will deliver them\n",
    "        PRow([[\"FatJet\",\"LV\"]],MakePtEtaPhiMLV()),\n",
    "        #PColumn just takes in a function that outputs a new dataframe\n",
    "        PColumn(ColumnSelection()),\n",
    "        #The collection here is \"Hists\" so we can plot these variables \n",
    "        PRow([[\"Hists\",\"invm\"],[\"Hists\",\"logMSE\"],[\"Hists\",\"logMSEshift\"]],MyAnalyzerVec()),\n",
    "        PColumn(ColumnWeights()),\n",
    "        ]"
   ]
  },
  {
   "cell_type": "code",
   "execution_count": 14,
   "metadata": {},
   "outputs": [],
   "source": [
    "#Every action receives the \"EventInfo\" object.  This contains any state information (like current dataset or number of events processed)\n",
    "#But also, you can pass anthing you want as well through the eventcontainer.  \n",
    "#Here we pass some hypothetical dataset dependent MSE shift as an example.\n",
    "#Also, objects can be passed through the class __init__ for each function  \n",
    "evcont={\"msescale\":{\"TT\":1.10,\"QCD_HT1500to2000\":0.9},\"lumi\":(1000.0*137.65),\"xsec\":{\"TT\":0.047,\"QCD_HT1500to2000\":101.8},\"nev\":{\"TT\":305963.0,\"QCD_HT1500to2000\":10655313.0}}"
   ]
  },
  {
   "cell_type": "code",
   "execution_count": 15,
   "metadata": {
    "scrolled": true
   },
   "outputs": [
    {
     "name": "stdout",
     "output_type": "stream",
     "text": [
      "Running process over 6 processors\n"
     ]
    },
    {
     "name": "stderr",
     "output_type": "stream",
     "text": [
      "Dataset:TT Process:5: 100%|██████████| 3/3 [00:01<00:00,  1.83it/s]\n",
      "Dataset:TT Process:2: 100%|██████████| 4/4 [00:02<00:00,  1.80it/s]?it/s]\n",
      "Dataset:TT Process:0: 100%|██████████| 4/4 [00:02<00:00,  1.75it/s]?it/s]\n",
      "Dataset:TT Process:4: 100%|██████████| 4/4 [00:02<00:00,  1.73it/s]?it/s]\n",
      "Dataset:TT Process:1: 100%|██████████| 4/4 [00:02<00:00,  1.54it/s]?it/s]\n",
      "Dataset:TT Process:3: 100%|██████████| 4/4 [00:02<00:00,  1.45it/s]?it/s]\n",
      "Dataset:QCD_HT1500to2000 Process:0: 100%|██████████| 7/7 [00:08<00:00,  1.25s/it]\n",
      "Dataset:QCD_HT1500to2000 Process:5: 100%|██████████| 7/7 [00:11<00:00,  1.67s/it]\n",
      "Dataset:QCD_HT1500to2000 Process:2: 100%|██████████| 7/7 [00:12<00:00,  1.72s/it]\n",
      "Dataset:QCD_HT1500to2000 Process:1: 100%|██████████| 7/7 [00:14<00:00,  2.04s/it]\n",
      "Dataset:QCD_HT1500to2000 Process:3: 100%|██████████| 7/7 [00:19<00:00,  2.73s/it]\n",
      "Dataset:QCD_HT1500to2000 Process:4: 100%|██████████| 7/7 [00:22<00:00,  3.23s/it]\n"
     ]
    },
    {
     "name": "stdout",
     "output_type": "stream",
     "text": [
      "Done\n",
      "Fill Hist\n"
     ]
    },
    {
     "name": "stderr",
     "output_type": "stream",
     "text": [
      "/cms/daj111/autoencoder/CMSSW_11_3_3/src/AEAnalyzer/RooPandasFunctions.py:168: UserWarning: Warning: Attempting to project weights for histogram, this should be done in the analyzer\n",
      "  warnings.warn(\"Warning: Attempting to project weights for histogram, this should be done in the analyzer\")\n"
     ]
    },
    {
     "name": "stdout",
     "output_type": "stream",
     "text": [
      "tight90pt1__tight90pt1MSE\n",
      "njettight__njetloose\n",
      "tight90pt1__tight90pt1MSE\n",
      "njettight__njetloose\n",
      "tight90pt1__tight90pt1MSE\n",
      "njettight__njetloose\n",
      "tight90pt1__tight90pt1MSE\n",
      "njettight__njetloose\n",
      "tight90pt1__tight90pt1MSE\n",
      "njettight__njetloose\n",
      "tight90pt1__tight90pt1MSE\n",
      "njettight__njetloose\n",
      "tight90pt1__tight90pt1MSE\n",
      "njettight__njetloose\n",
      "tight90pt1__tight90pt1MSE\n",
      "njettight__njetloose\n",
      "tight90pt1__tight90pt1MSE\n",
      "njettight__njetloose\n",
      "tight90pt1__tight90pt1MSE\n",
      "njettight__njetloose\n",
      "tight90pt1__tight90pt1MSE\n",
      "njettight__njetloose\n",
      "tight90pt1__tight90pt1MSE\n",
      "njettight__njetloose\n",
      "Timing...\n",
      "\t Start 0.0\n",
      "\t File Read 0.2188854217529297\n",
      "\t Parsed 0.3826580047607422\n",
      "\t Analyzed 2.6417388916015625\n",
      "Dataset: TT Completed\n",
      "Events input: 508484 output: 333882\n",
      "Timing...\n",
      "\t Start 0.0\n",
      "\t File Read 1.8280048370361328\n",
      "\t Parsed 5.798862457275391\n",
      "\t Analyzed 21.96046257019043\n",
      "Dataset: QCD_HT1500to2000 Completed\n",
      "Events input: 9361512 output: 1354691\n",
      "Done\n",
      "Total time 48.47024750709534\n"
     ]
    }
   ],
   "source": [
    "#The processor just takes in all the peices\n",
    "\n",
    "proc=PProcessor(chunklist,histos,branchestoread,myana,eventcontainer=evcont,atype=\"flat\",scalars=scalars)\n",
    "#Multiprocessor\n",
    "Mproc=PProcRunner(proc,6)\n",
    "#Then runs them\n",
    "returndf=Mproc.Run()"
   ]
  },
  {
   "cell_type": "code",
   "execution_count": 16,
   "metadata": {},
   "outputs": [
    {
     "name": "stdout",
     "output_type": "stream",
     "text": [
      "TT cut90 -10.116385\n",
      "TT cut99 -9.211964\n",
      "TT cut999 -8.743546\n",
      "QCD_HT1500to2000 cut90 -11.281307\n",
      "QCD_HT1500to2000 cut99 -9.906904\n",
      "QCD_HT1500to2000 cut999 -9.161895\n"
     ]
    }
   ],
   "source": [
    "for rr in returndf:\n",
    "    print  (rr ,\"cut90\",returndf[rr][\"logMSE_all\"].quantile(0.9))\n",
    "    print  (rr ,\"cut99\",returndf[rr][\"logMSE_all\"].quantile(0.99))\n",
    "    print  (rr ,\"cut999\",returndf[rr][\"logMSE_all\"].quantile(0.999))"
   ]
  },
  {
   "cell_type": "code",
   "execution_count": 17,
   "metadata": {},
   "outputs": [],
   "source": [
    "#Finally, write out the histograms\n",
    "output = TFile(\"FromFlatPandas.root\",\"recreate\")\n",
    "output.cd()\n",
    "for ds in histos:\n",
    "    for var in histos[ds]:\n",
    "            histos[ds][var].Write(ds+\"__\"+var)\n",
    "output.Close()"
   ]
  },
  {
   "cell_type": "code",
   "execution_count": 18,
   "metadata": {},
   "outputs": [
    {
     "data": {
      "image/png": "[encoded data removed]",
      "text/plain": [
       "<IPython.core.display.Image object>"
      ]
     },
     "metadata": {},
     "output_type": "display_data"
    }
   ],
   "source": [
    "canv=TCanvas(\"canv\",\"canv\",700,500)\n",
    "gPad.SetLeftMargin(0.12)\n",
    "histos[\"QCD_HT1500to2000\"][\"njettight__njetloose\"].SetTitle(\"QCD;njettight;njetloose\")\n",
    "histos[\"QCD_HT1500to2000\"][\"njettight__njetloose\"].SetStats(0)\n",
    "norm = 1/histos[\"QCD_HT1500to2000\"][\"njettight__njetloose\"].Integral()\n",
    "histos[\"QCD_HT1500to2000\"][\"njettight__njetloose\"].Scale(norm)\n",
    "histos[\"QCD_HT1500to2000\"][\"njettight__njetloose\"].Draw(\"colztext\")\n",
    "canv.Draw()"
   ]
  },
  {
   "cell_type": "code",
   "execution_count": 19,
   "metadata": {},
   "outputs": [
    {
     "name": "stderr",
     "output_type": "stream",
     "text": [
      "Warning in <TCanvas::Constructor>: Deleting canvas with same name: canv\n"
     ]
    },
    {
     "data": {
      "image/png": "[encoded data removed]",
      "text/plain": [
       "<IPython.core.display.Image object>"
      ]
     },
     "metadata": {},
     "output_type": "display_data"
    }
   ],
   "source": [
    "canv=TCanvas(\"canv\",\"canv\",700,500)\n",
    "gPad.SetLeftMargin(0.12)\n",
    "histos[\"TT\"][\"njettight__njetloose\"].SetTitle(\"TT;njettight;njetloose\")\n",
    "histos[\"TT\"][\"njettight__njetloose\"].SetStats(0)\n",
    "norm = 1/histos[\"TT\"][\"njettight__njetloose\"].Integral()\n",
    "histos[\"TT\"][\"njettight__njetloose\"].Scale(norm)\n",
    "histos[\"TT\"][\"njettight__njetloose\"].Draw(\"colztext\")\n",
    "canv.Draw()"
   ]
  },
  {
   "cell_type": "code",
   "execution_count": 20,
   "metadata": {},
   "outputs": [
    {
     "name": "stderr",
     "output_type": "stream",
     "text": [
      "Warning in <TCanvas::Constructor>: Deleting canvas with same name: canv\n"
     ]
    },
    {
     "data": {
      "image/png": "[encoded data removed]",
      "text/plain": [
       "<IPython.core.display.Image object>"
      ]
     },
     "metadata": {},
     "output_type": "display_data"
    }
   ],
   "source": [
    "canv=TCanvas(\"canv\",\"canv\",700,500)\n",
    "gPad.SetLeftMargin(0.12)\n",
    "histos[\"QCD_HT1500to2000\"][\"dijetht\"].SetTitle(\"QCD_HT1500to2000;ht;events\")\n",
    "histos[\"QCD_HT1500to2000\"][\"dijetht\"].SetStats(0)\n",
    "histos[\"QCD_HT1500to2000\"][\"dijetht\"].Draw(\"hist\")\n",
    "canv.Draw()"
   ]
  },
  {
   "cell_type": "code",
   "execution_count": 21,
   "metadata": {},
   "outputs": [
    {
     "name": "stderr",
     "output_type": "stream",
     "text": [
      "Warning in <TCanvas::Constructor>: Deleting canvas with same name: canv\n"
     ]
    },
    {
     "data": {
      "image/png": "[encoded data removed]",
      "text/plain": [
       "<IPython.core.display.Image object>"
      ]
     },
     "metadata": {},
     "output_type": "display_data"
    }
   ],
   "source": [
    "canv=TCanvas(\"canv\",\"canv\",700,500)\n",
    "gPad.SetLeftMargin(0.12)\n",
    "histos[\"TT\"][\"dijetht\"].SetTitle(\"TT;ht;events\")\n",
    "histos[\"TT\"][\"dijetht\"].SetStats(0)\n",
    "histos[\"TT\"][\"dijetht\"].Draw(\"hist\")\n",
    "canv.Draw()"
   ]
  }
 ],
 "metadata": {
  "celltoolbar": "Raw Cell Format",
  "kernelspec": {
   "display_name": "Python 3",
   "language": "python",
   "name": "python3"
  },
  "language_info": {
   "codemirror_mode": {
    "name": "ipython",
    "version": 3
   },
   "file_extension": ".py",
   "mimetype": "text/x-python",
   "name": "python",
   "nbconvert_exporter": "python",
   "pygments_lexer": "ipython3",
   "version": "3.8.3"
  }
 },
 "nbformat": 4,
 "nbformat_minor": 4
}
